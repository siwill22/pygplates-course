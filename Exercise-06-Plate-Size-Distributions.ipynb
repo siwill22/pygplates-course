{
 "cells": [
  {
   "cell_type": "markdown",
   "metadata": {
    "deletable": true,
    "editable": true
   },
   "source": [
    "# Topological Polygons and Plate Areas\n",
    "\n",
    "### Overview\n",
    "This notebook covers:\n",
    "- how to generate resolved plate topologies in pygplates\n",
    "- how to access information about the geometry of each plate (in particular the area)\n",
    "- sorting arrays changing their order\n"
   ]
  },
  {
   "cell_type": "code",
   "execution_count": 3,
   "metadata": {
    "collapsed": true,
    "deletable": true,
    "editable": true
   },
   "outputs": [],
   "source": [
    "import pygplates\n",
    "\n",
    "import matplotlib.pyplot as plt\n",
    "import numpy as np\n",
    "from mpl_toolkits.basemap import Basemap\n",
    "from matplotlib.patches import Polygon\n",
    "\n",
    "%matplotlib inline\n"
   ]
  },
  {
   "cell_type": "markdown",
   "metadata": {
    "deletable": true,
    "editable": true
   },
   "source": [
    "#### Topological Plate Polygon exercise\n",
    "\n",
    "This exercise deals with plate topological polygons. The tutorial 'pygplates-topologies' is a useful starting place before attempting the exercise below.\n"
   ]
  },
  {
   "cell_type": "code",
   "execution_count": 4,
   "metadata": {
    "collapsed": false,
    "deletable": true,
    "editable": true
   },
   "outputs": [],
   "source": [
    "rotation_filename = 'Data/Seton_etal_ESR2012_2012.1.rot'\n",
    "input_topology_filename = 'Data/Seton_etal_ESR2012_PP_2012.1.gpmlz'\n",
    "\n",
    "topology_features = pygplates.FeatureCollection(input_topology_filename)\n",
    "rotation_model = pygplates.RotationModel(rotation_filename)\n",
    "\n",
    "# Specify time at which to create resolved topological plate polygons\n",
    "time=0.\n",
    "resolved_topologies = []\n",
    "pygplates.resolve_topologies(topology_features, rotation_model, resolved_topologies, time)\n",
    "pygplates.resolve_topologies(topology_features, rotation_model, 'plate_polygons.shp', time)\n",
    "\n"
   ]
  },
  {
   "cell_type": "markdown",
   "metadata": {
    "deletable": true,
    "editable": true
   },
   "source": [
    "### Exercise 1 - plate size distributions\n",
    "\n",
    "In this exercise, we'll ask some simple questions about the size of plates.\n",
    "- are all plates the same size, or do plate sizes vary?\n",
    "- what does the distribution of plate sizes say about the processes that control their size?\n",
    "- does the distribution of plate sizes change through time, and why?\n",
    "\n",
    "Some useful context for this analysis can be found in these paper:\n",
    "\n",
    "\n",
    "#### Step one: Plate sizes for present day\n",
    "\n",
    "Begin by attempting to get a list of all the plate areas for the present day plate polygons. Sort these into descending order, then plot them on a loglog scale following the same format as shown in the literature cited above. \n",
    "\n",
    "Some useful python strategy here:\n",
    "- turn a 'list' array into a 'numpy' array, makes it easier to sort a series of numbers in ascending order\n",
    "- to reverse the order of an array, try using the indexing operation like this (and try to understand why this works): \n",
    "> reversed_Array = Array[::-1]\n"
   ]
  },
  {
   "cell_type": "code",
   "execution_count": 18,
   "metadata": {
    "collapsed": false,
    "deletable": true,
    "editable": true
   },
   "outputs": [],
   "source": [
    "# Enter Code Here\n",
    "\n"
   ]
  },
  {
   "cell_type": "markdown",
   "metadata": {
    "deletable": true,
    "editable": true
   },
   "source": [
    "Once you think you have succeeded, try looking at this webpage to see if the results make sense:\n",
    "\n",
    "http://peterbird.name/publications/2003_PB2002/2003_PB2002.htm"
   ]
  },
  {
   "cell_type": "markdown",
   "metadata": {
    "deletable": true,
    "editable": true
   },
   "source": [
    "### Exercise: plate size distribution through time\n",
    "\n",
    "Try writing a loop that plots the same distribution for other reconstruction times. Try different ways of plotting the results (e.g. as separate plots for each time, or a single plot where the different \n"
   ]
  },
  {
   "cell_type": "code",
   "execution_count": 19,
   "metadata": {
    "collapsed": false,
    "deletable": true,
    "editable": true
   },
   "outputs": [],
   "source": [
    "# Enter Code Here\n",
    "\n",
    "\n"
   ]
  },
  {
   "cell_type": "code",
   "execution_count": null,
   "metadata": {
    "collapsed": true,
    "deletable": true,
    "editable": true
   },
   "outputs": [],
   "source": []
  }
 ],
 "metadata": {
  "kernelspec": {
   "display_name": "Python 2",
   "language": "python",
   "name": "python2"
  },
  "language_info": {
   "codemirror_mode": {
    "name": "ipython",
    "version": 2
   },
   "file_extension": ".py",
   "mimetype": "text/x-python",
   "name": "python",
   "nbconvert_exporter": "python",
   "pygments_lexer": "ipython2",
   "version": "2.7.12"
  }
 },
 "nbformat": 4,
 "nbformat_minor": 0
}

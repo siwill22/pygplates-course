{
 "cells": [
  {
   "cell_type": "markdown",
   "metadata": {
    "deletable": true,
    "editable": true
   },
   "source": [
    "# Defining Functions, Comparing Reconstructions\n",
    "\n",
    "### Overview\n",
    "This notebook goes through the following themes:\n",
    "- Defining functions to avoid code duplication\n",
    "- Using user-defined functions to efficiently compare aspects of reconstruction models\n",
    "\n",
    "### Part 1\n",
    "The code below is largely copied from the 'pygplates-motion-paths' tutorial. It computes a reconstructed motion path from a given rotation file, given some required parameters like the seed point, time range and increment, plate ids. (if you are unfamiliar with motion paths, it is worth trying to make one in GPlates so you can see what they look like and how the creation steps work)\n"
   ]
  },
  {
   "cell_type": "code",
   "execution_count": 70,
   "metadata": {
    "collapsed": true,
    "deletable": true,
    "editable": true
   },
   "outputs": [],
   "source": [
    "import numpy as np\n",
    "import pygplates\n",
    "import matplotlib.pyplot as plt\n",
    "from mpl_toolkits.basemap import Basemap\n",
    "\n",
    "%matplotlib inline\n",
    "\n",
    "rotation_filename = 'Data/Seton_etal_ESR2012_2012.1.rot'\n",
    "\n",
    "# Required parameters for a motion path feature\n",
    "SeedPoint = (30,78)\n",
    "MovingPlate = 801\n",
    "RelativePlate = 0\n",
    "TimeStep = 5\n",
    "times = np.arange(0,200,TimeStep)\n",
    "\n",
    "# Create the motion path feature\n",
    "digitisation_time = 0\n",
    "seed_points_at_digitisation_time = pygplates.MultiPointOnSphere([SeedPoint])\n",
    "motion_path_feature = pygplates.Feature.create_motion_path(\n",
    "        seed_points_at_digitisation_time,\n",
    "        times,\n",
    "        valid_time=(200, 0),\n",
    "        relative_plate=RelativePlate,\n",
    "        reconstruction_plate_id = MovingPlate)\n",
    "\n",
    "# At this point all we have done is define a motion path feature - now, we want to use a specific rotation model\n",
    "# to derive the predicted motion path from that model\n",
    "\n",
    "rotation_model = pygplates.RotationModel(rotation_filename)\n",
    "\n",
    "# Create the shape of the motion path\n",
    "reconstruction_time = 0\n",
    "reconstructed_motion_paths = []\n",
    "pygplates.reconstruct(\n",
    "        motion_path_feature, rotation_model, reconstructed_motion_paths, reconstruction_time,\n",
    "        reconstruct_type=pygplates.ReconstructType.motion_path)\n",
    "\n",
    "# get the reconstructed coordinates into numpy arrays\n",
    "for reconstructed_motion_path in reconstructed_motion_paths:\n",
    "    trail = reconstructed_motion_path.get_motion_path().to_lat_lon_array()\n",
    "    "
   ]
  },
  {
   "cell_type": "markdown",
   "metadata": {
    "deletable": true,
    "editable": true
   },
   "source": [
    "The array called 'trail' contains the lat/long coordinates of the motion path, which are based on reconstructing the seed point to the list of times in the 'times' array that we specified. The shape of the array is (40,2), the number of rows and columns respectively.\n",
    "\n",
    "To plot just the latitude, we can index into the first column.\n"
   ]
  },
  {
   "cell_type": "code",
   "execution_count": 71,
   "metadata": {
    "collapsed": false,
    "deletable": true,
    "editable": true
   },
   "outputs": [
    {
     "name": "stdout",
     "output_type": "stream",
     "text": [
      "(40, 2)\n"
     ]
    },
    {
     "data": {
      "image/png": "[encoded data removed]",
      "text/plain": [
       "<matplotlib.figure.Figure at 0x116c08990>"
      ]
     },
     "metadata": {},
     "output_type": "display_data"
    }
   ],
   "source": [
    "print trail.shape\n",
    "\n",
    "plt.plot(trail[:,0])\n",
    "plt.show()\n"
   ]
  },
  {
   "cell_type": "markdown",
   "metadata": {
    "collapsed": true,
    "deletable": true,
    "editable": true
   },
   "source": [
    "### Defining a function to compute motion paths\n",
    "\n",
    "Often when we've written some useful code, we want to use it over and over again for different permuations of a problem. To avoid having to cut and paste the same code over and over again into different scripts. \n",
    "\n",
    "A solution is to define our own python functions, where we decide which parts of the process we may want to vary.\n",
    "\n"
   ]
  },
  {
   "cell_type": "code",
   "execution_count": 3,
   "metadata": {
    "collapsed": false,
    "deletable": true,
    "editable": true
   },
   "outputs": [],
   "source": [
    "def innumeracy(x,y):\n",
    "    z = x+y+1.\n",
    "    print '%d + %d = %d' % (x,y,z)\n"
   ]
  },
  {
   "cell_type": "markdown",
   "metadata": {
    "deletable": true,
    "editable": true
   },
   "source": [
    "When you run the cell above, you won't see anything happen on the screen - rather, we have defined a function that can then be called "
   ]
  },
  {
   "cell_type": "code",
   "execution_count": 4,
   "metadata": {
    "collapsed": false,
    "deletable": true,
    "editable": true
   },
   "outputs": [
    {
     "name": "stdout",
     "output_type": "stream",
     "text": [
      "2 + 2 = 5\n",
      "7 + 2 = 10\n"
     ]
    }
   ],
   "source": [
    "innumeracy(2,2)\n",
    "innumeracy(7,2)"
   ]
  },
  {
   "cell_type": "markdown",
   "metadata": {
    "deletable": true,
    "editable": true
   },
   "source": [
    "In addition to printing the answer to the screen, we can return the answer into an array."
   ]
  },
  {
   "cell_type": "code",
   "execution_count": 6,
   "metadata": {
    "collapsed": false,
    "deletable": true,
    "editable": true
   },
   "outputs": [
    {
     "name": "stdout",
     "output_type": "stream",
     "text": [
      "113.0\n"
     ]
    }
   ],
   "source": [
    "def innumeracy(x,y):\n",
    "    z = x+y+1.\n",
    "    return z\n",
    "\n",
    "z1 = innumeracy(12,100)\n",
    "print z1"
   ]
  },
  {
   "cell_type": "markdown",
   "metadata": {
    "deletable": true,
    "editable": true
   },
   "source": [
    "### Exercise\n",
    "\n",
    "The pygplates tutorial includes a number of examples for how to create motion paths. \n",
    "\n",
    "Your mission is:\n",
    "- pick one of the examples in the 'pygplates-motion-paths' tutorial, the choice is up to you.\n",
    "- to define a function that will take some user-specified parameters (the seed point for the motion path, the plate id, the name of the rotation file), \n",
    "- the function can be called by a single line of code and returns either a plot of the motion path, or, returns an array of motion path coordinates. In this second case, you can make multiple calls to the same function (With the input varying in each call, such that you\n",
    "\n"
   ]
  },
  {
   "cell_type": "code",
   "execution_count": 7,
   "metadata": {
    "collapsed": true,
    "deletable": true,
    "editable": true
   },
   "outputs": [],
   "source": [
    "## SOLUTION 1\n"
   ]
  },
  {
   "cell_type": "code",
   "execution_count": null,
   "metadata": {
    "collapsed": false,
    "deletable": true,
    "editable": true
   },
   "outputs": [],
   "source": [
    "#### EXAMPLE USAGE 1\n",
    "# Plot curves for three seed points on Africa\n",
    "rotation_filename = 'Data/Seton_etal_ESR2012_2012.1.rot'\n",
    "MovingPlate = 701\n",
    "RelativePlate = 0\n",
    "times = np.arange(0,130,10)\n",
    "\n",
    "# get motion paths for three different points in Africa, at the same latitude but\n",
    "# different longitudes\n",
    "trail_1 = get_motion_path(rotation_filename,(-20,0),MovingPlate,RelativePlate,times)\n",
    "trail_2 = get_motion_path(rotation_filename,(-20,5),MovingPlate,RelativePlate,times)\n",
    "trail_3 = get_motion_path(rotation_filename,(-20,10),MovingPlate,RelativePlate,times)\n",
    "\n",
    "plt.plot(times,trail_1[:,0],'r')\n",
    "plt.plot(times,trail_2[:,0],'c')\n",
    "plt.plot(times,trail_3[:,0],'m')\n",
    "plt.xlim(130,0)\n",
    "plt.xlabel('Age (Ma)')\n",
    "plt.ylabel('Latitude')\n",
    "plt.grid()\n",
    "plt.show()"
   ]
  },
  {
   "cell_type": "code",
   "execution_count": null,
   "metadata": {
    "collapsed": false,
    "deletable": true,
    "editable": true
   },
   "outputs": [],
   "source": []
  },
  {
   "cell_type": "code",
   "execution_count": null,
   "metadata": {
    "collapsed": true,
    "deletable": true,
    "editable": true
   },
   "outputs": [],
   "source": []
  }
 ],
 "metadata": {
  "kernelspec": {
   "display_name": "Python 2",
   "language": "python",
   "name": "python2"
  },
  "language_info": {
   "codemirror_mode": {
    "name": "ipython",
    "version": 2
   },
   "file_extension": ".py",
   "mimetype": "text/x-python",
   "name": "python",
   "nbconvert_exporter": "python",
   "pygments_lexer": "ipython2",
   "version": "2.7.12"
  }
 },
 "nbformat": 4,
 "nbformat_minor": 0
}
